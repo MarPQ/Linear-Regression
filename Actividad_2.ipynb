{
  "nbformat": 4,
  "nbformat_minor": 0,
  "metadata": {
    "colab": {
      "name": "Actividad_2.ipynb",
      "provenance": [],
      "collapsed_sections": [],
      "toc_visible": true
    },
    "kernelspec": {
      "name": "python3",
      "display_name": "Python 3"
    }
  },
  "cells": [
    {
      "cell_type": "markdown",
      "metadata": {
        "id": "Rx8xUwPHPOSu"
      },
      "source": [
        "# Parte 1"
      ]
    },
    {
      "cell_type": "code",
      "metadata": {
        "colab": {
          "base_uri": "https://localhost:8080/",
          "height": 397
        },
        "id": "izqKP8pyO3_z",
        "outputId": "dddfd1d1-a7f2-40bb-c9d9-f319605b744b"
      },
      "source": [
        "import numpy as np\r\n",
        "import pandas as pd\r\n",
        "import matplotlib.pyplot as plt\r\n",
        "from sklearn import linear_model\r\n",
        "from sklearn.metrics import mean_absolute_error, mean_squared_error, median_absolute_error, r2_score, explained_variance_score\r\n",
        "\r\n",
        "#Obteniendo loas datos del dataframe\r\n",
        "df = pd.read_csv('df_regresion_lineal_1.cvs')\r\n",
        "#print(df)\r\n",
        "\r\n",
        "x = np.asanyarray(df[['x']])\r\n",
        "y = np.asanyarray(df[['y']])\r\n",
        "#print(y)\r\n",
        "\r\n",
        "#Modelo y prediccion\r\n",
        "model = linear_model.LinearRegression()\r\n",
        "model.fit(x, y)\r\n",
        "yp = model.predict(x)\r\n",
        "#yp2=model.predict([[1]])\r\n",
        "#print(yp2)\r\n",
        "\r\n",
        "#Graficando\r\n",
        "plt.figure()\r\n",
        "plt.grid()\r\n",
        "plt.title('Regresion Lineal')\r\n",
        "plt.xlabel('X')\r\n",
        "plt.ylabel('Y')\r\n",
        "\r\n",
        "plt.plot(x, y, 'bo')\r\n",
        "plt.plot(x, yp, 'r-', lw = 3)\r\n",
        "plt.legend(['Dato','Predicción'])\r\n",
        "\r\n",
        "plt.show()\r\n",
        "\r\n",
        "#Metricas de error\r\n",
        "\r\n",
        "#Error absoluto medio\r\n",
        "MAE = mean_absolute_error(y,yp)\r\n",
        "\r\n",
        "#Error cuadratico medio\r\n",
        "MSE = mean_squared_error(y,yp)\r\n",
        "\r\n",
        "#Error mediano absoluto\r\n",
        "MedAE = median_absolute_error(y,yp)\r\n",
        "\r\n",
        "#Coeficiente R2\r\n",
        "R2 = r2_score(y,yp)\r\n",
        "\r\n",
        "#Coeficiente de explicacion de la varianza\r\n",
        "EVS = explained_variance_score(y,yp)\r\n",
        "\r\n",
        "print('\\nMAE =', MAE)\r\n",
        "print('MSE =', MSE)\r\n",
        "print('MedAE =', MedAE)\r\n",
        "print('R2 =', R2)\r\n",
        "print('EVS =', EVS)\r\n",
        "\r\n"
      ],
      "execution_count": 48,
      "outputs": [
        {
          "output_type": "display_data",
          "data": {
            "image/png": "[encoded data removed]",
            "text/plain": [
              "<Figure size 432x288 with 1 Axes>"
            ]
          },
          "metadata": {
            "tags": [],
            "needs_background": "light"
          }
        },
        {
          "output_type": "stream",
          "text": [
            "\n",
            "MAE = 0.16064031764688003\n",
            "MSE = 0.03307173080342715\n",
            "MedAE = 0.17157959685809088\n",
            "R2 = 0.9940024504256648\n",
            "EVS = 0.9940024504256648\n"
          ],
          "name": "stdout"
        }
      ]
    },
    {
      "cell_type": "markdown",
      "metadata": {
        "id": "5JN7GXs3L3RX"
      },
      "source": [
        "# Parte 2"
      ]
    },
    {
      "cell_type": "code",
      "metadata": {
        "colab": {
          "base_uri": "https://localhost:8080/",
          "height": 431
        },
        "id": "8DQ7ZsREL6S4",
        "outputId": "a1405c8c-b5d8-4fd0-b39b-fd11104ee6c1"
      },
      "source": [
        "import numpy as np\r\n",
        "import pandas as pd\r\n",
        "import matplotlib.pyplot as plt\r\n",
        "from sklearn import linear_model\r\n",
        "from sklearn.metrics import mean_absolute_error, mean_squared_error, median_absolute_error, r2_score, explained_variance_score\r\n",
        "\r\n",
        "#Obteniendo loas datos del dataframe\r\n",
        "df = pd.read_csv('df_regresion_lineal_pop.cvs')\r\n",
        "#print(df)\r\n",
        "\r\n",
        "year = np.asanyarray(df[['year']])\r\n",
        "pop = np.asanyarray(df[['pop']])\r\n",
        "#print(year)\r\n",
        "\r\n",
        "#Modelo y prediccion\r\n",
        "model = linear_model.LinearRegression()\r\n",
        "model.fit(year, pop)\r\n",
        "pop_p = model.predict(year)\r\n",
        "\r\n",
        "yp2=model.predict([[2020.0]])\r\n",
        "\r\n",
        "#Graficando\r\n",
        "plt.figure()\r\n",
        "plt.grid()\r\n",
        "plt.title('Regresion Lineal')\r\n",
        "plt.xlabel('Año')\r\n",
        "plt.ylabel('Población')\r\n",
        "\r\n",
        "plt.plot(year, pop, 'bo')\r\n",
        "plt.plot(year, pop_p, 'r-', lw = 3)\r\n",
        "plt.legend(['Datos','Predicción'])\r\n",
        "\r\n",
        "plt.show()\r\n",
        "\r\n",
        "#Metricas de error\r\n",
        "\r\n",
        "#Error absoluto medio\r\n",
        "MAE = mean_absolute_error(pop,pop_p)\r\n",
        "\r\n",
        "#Error cuadratico medio\r\n",
        "MSE = mean_squared_error(pop,pop_p)\r\n",
        "\r\n",
        "#Error mediano absoluto\r\n",
        "MedAE = median_absolute_error(pop,pop_p)\r\n",
        "\r\n",
        "#Coeficiente R2\r\n",
        "R2 = r2_score(pop,pop_p)\r\n",
        "\r\n",
        "#Coeficiente de explicacion de la varianza\r\n",
        "EVS = explained_variance_score(pop,pop_p)\r\n",
        "\r\n",
        "print('\\nMAE =', MAE)\r\n",
        "print('MSE =', MSE)\r\n",
        "print('MedAE =', MedAE)\r\n",
        "print('R2 =', R2)\r\n",
        "print('EVS =', EVS)\r\n",
        "\r\n",
        "print('\\nPoblacion predecida para 2020 = ',yp2)"
      ],
      "execution_count": 49,
      "outputs": [
        {
          "output_type": "display_data",
          "data": {
            "image/png": "[encoded data removed]",
            "text/plain": [
              "<Figure size 432x288 with 1 Axes>"
            ]
          },
          "metadata": {
            "tags": [],
            "needs_background": "light"
          }
        },
        {
          "output_type": "stream",
          "text": [
            "\n",
            "MAE = 1058079.682400902\n",
            "MSE = 1571199625216.2168\n",
            "MedAE = 974878.9458041191\n",
            "R2 = 0.9976408962810307\n",
            "EVS = 0.9976408962810307\n",
            "\n",
            "Poblacion predecida para 2020 =  [[1.28897797e+08]]\n"
          ],
          "name": "stdout"
        }
      ]
    }
  ]
}